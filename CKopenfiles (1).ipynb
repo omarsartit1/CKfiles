{
 "cells": [
  {
   "cell_type": "code",
   "execution_count": 18,
   "id": "5267d5e3-c5c7-4d5b-902c-12c8e6bdff8a",
   "metadata": {},
   "outputs": [],
   "source": [
    "fpath= \"python.txt\"\n",
    "mode = 'r'\n",
    "f=open(\"python.txt\", 'r', encoding = 'utf-8')"
   ]
  },
  {
   "cell_type": "code",
   "execution_count": 19,
   "id": "066b9940-c91d-490b-aa7b-84c1288815a3",
   "metadata": {},
   "outputs": [
    {
     "data": {
      "text/plain": [
       "'What is Python language?                                                \\nPython is a widely used high-level, general-purpose, interpreted, dynamic programming language.Its design philosophy emphasizes code readability, and its syntax allows programmers to express concepts in fewer lines of code than possible in \\nlanguages such as C++ or Java. \\nPython supports multiple programming paradigms, including object-oriented, imperative and functional programming or procedural styles. It features a dynamic type system and automatic memory management and has a large and comprehensive standard library.The best way we learn anything is by practice and exercise questions. We  have started this section for those (beginner to intermediate) who are familiar with Python.'"
      ]
     },
     "execution_count": 19,
     "metadata": {},
     "output_type": "execute_result"
    }
   ],
   "source": [
    "f.read()"
   ]
  },
  {
   "cell_type": "code",
   "execution_count": 4,
   "id": "cb4ebb88-b302-44ed-886d-8627dc4cd24d",
   "metadata": {},
   "outputs": [
    {
     "name": "stdout",
     "output_type": "stream",
     "text": [
      "What is Python language?                                                \n",
      "\n"
     ]
    }
   ],
   "source": [
    "fpath= \"python.txt\"\n",
    "with open(\"python.txt\", 'r') as file:\n",
    "    first_line = next(file)\n",
    "    print(first_line)"
   ]
  },
  {
   "cell_type": "code",
   "execution_count": 5,
   "id": "8551d558-d8d3-435c-843c-e5d7a1fdfc58",
   "metadata": {},
   "outputs": [
    {
     "name": "stdout",
     "output_type": "stream",
     "text": [
      "Python supports multiple programming paradigms, including object-oriented, imperative and functional programming or procedural styles. It features a dynamic type system and automatic memory management and has a large and comprehensive standard library.The best way we learn anything is by practice and exercise questions. We  have started this section for those (beginner to intermediate) who are familiar with Python.\n"
     ]
    }
   ],
   "source": [
    "fpath= \"python.txt\"\n",
    "with open(\"python.txt\", 'r') as file:\n",
    "    lines = file.readlines()\n",
    "    last_line = lines[-1]\n",
    "    print(last_line)"
   ]
  },
  {
   "cell_type": "code",
   "execution_count": 33,
   "id": "f8f20977-6bfd-4e65-acaf-b9a0959628e3",
   "metadata": {},
   "outputs": [
    {
     "name": "stdout",
     "output_type": "stream",
     "text": [
      "The file has 100 words.\n"
     ]
    }
   ],
   "source": [
    "fpath= \"python.txt\"\n",
    "mode = 'r'\n",
    "f=open(\"python.txt\", 'r', encoding = 'utf-8')\n",
    "readallfile = f.read()\n",
    "words = readallfile.split()\n",
    "num_words = len(words)\n",
    "print(f\"The file has {num_words} words.\")"
   ]
  },
  {
   "cell_type": "code",
   "execution_count": null,
   "id": "6c704c11-8f3e-483e-945b-8492a9e8c904",
   "metadata": {},
   "outputs": [],
   "source": []
  },
  {
   "cell_type": "code",
   "execution_count": null,
   "id": "6c91c09d-2d4a-4e4c-8bf5-32218c539fec",
   "metadata": {},
   "outputs": [],
   "source": []
  }
 ],
 "metadata": {
  "kernelspec": {
   "display_name": "Python 3 (ipykernel)",
   "language": "python",
   "name": "python3"
  },
  "language_info": {
   "codemirror_mode": {
    "name": "ipython",
    "version": 3
   },
   "file_extension": ".py",
   "mimetype": "text/x-python",
   "name": "python",
   "nbconvert_exporter": "python",
   "pygments_lexer": "ipython3",
   "version": "3.11.7"
  }
 },
 "nbformat": 4,
 "nbformat_minor": 5
}
